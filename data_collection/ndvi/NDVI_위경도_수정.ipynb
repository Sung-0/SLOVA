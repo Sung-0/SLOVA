{
 "cells": [
  {
   "cell_type": "markdown",
   "id": "542ba024-9cef-4fc7-ae73-a4004a31de42",
   "metadata": {},
   "source": [
    "## EPSG:5187 기준을 위도 경도 로 수정하기"
   ]
  },
  {
   "cell_type": "code",
   "execution_count": null,
   "id": "994ca4a3-a0be-459f-b8fb-dbee08f563eb",
   "metadata": {},
   "outputs": [],
   "source": [
    "import pandas as pd\n",
    "from pyproj import Transformer\n",
    "\n",
    "# CSV 파일 로드\n",
    "df = pd.read_csv(\"raster_export.csv\")\n",
    "\n",
    "# 중심점(x, y) 계산 (EPSG:5187 기준)\n",
    "df['x'] = (df['left'] + df['right']) / 2\n",
    "df['y'] = (df['top'] + df['bottom']) / 2\n",
    "\n",
    "# 좌표 변환기 정의: EPSG:5187 → EPSG:4326 (WGS84)\n",
    "transformer = Transformer.from_crs(\"EPSG:5187\", \"EPSG:4326\", always_xy=True)\n",
    "\n",
    "# 위도/경도 변환 적용\n",
    "df['longitude'], df['latitude'] = transformer.transform(df['x'].values, df['y'].values)\n",
    "\n",
    "# 결과 확인\n",
    "print(df[['id', 'latitude', 'longitude']].head())\n"
   ]
  },
  {
   "cell_type": "code",
   "execution_count": null,
   "id": "06c40766-f71d-49d0-86dd-4b8ceaadaf56",
   "metadata": {},
   "outputs": [],
   "source": [
    "import pandas as pd\n",
    "import geopandas as gpd\n",
    "from shapely.geometry import Point\n",
    "\n",
    "# CSV 읽기\n",
    "df = pd.read_csv(\"input.csv\")\n",
    "\n",
    "# 중심 좌표 계산\n",
    "df['x_center'] = (df['left'] + df['right']) / 2\n",
    "df['y_center'] = (df['top'] + df['bottom']) / 2\n",
    "\n",
    "# 중심 좌표를 Point 객체로 변환\n",
    "geometry = [Point(xy) for xy in zip(df['x_center'], df['y_center'])]\n",
    "\n",
    "# ✅ EPSG:5186 (TM 중부 원점) 지정\n",
    "gdf = gpd.GeoDataFrame(df, geometry=geometry, crs=\"EPSG:5186\")\n",
    "\n",
    "# 위경도 좌표계(WGS84)로 변환\n",
    "gdf = gdf.to_crs(\"EPSG:4326\")\n",
    "\n",
    "# 위도/경도 열 추가\n",
    "gdf['longitude'] = gdf.geometry.x\n",
    "gdf['latitude'] = gdf.geometry.y\n",
    "\n",
    "# 불필요한 열 삭제\n",
    "gdf = gdf.drop(columns=[\"left\", \"right\", \"top\", \"bottom\", \"x_center\", \"y_center\", \"geometry\"])\n",
    "\n",
    "# CSV로 저장\n",
    "gdf.to_csv(\"output_converted.csv\", index=False)\n"
   ]
  }
 ],
 "metadata": {
  "kernelspec": {
   "display_name": "Python 3 (ipykernel)",
   "language": "python",
   "name": "python3"
  },
  "language_info": {
   "codemirror_mode": {
    "name": "ipython",
    "version": 3
   },
   "file_extension": ".py",
   "mimetype": "text/x-python",
   "name": "python",
   "nbconvert_exporter": "python",
   "pygments_lexer": "ipython3",
   "version": "3.12.7"
  }
 },
 "nbformat": 4,
 "nbformat_minor": 5
}
