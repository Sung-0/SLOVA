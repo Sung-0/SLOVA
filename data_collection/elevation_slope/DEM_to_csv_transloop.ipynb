{
 "cells": [
  {
   "cell_type": "code",
   "execution_count": 11,
   "id": "cfb1012e-a778-4d8f-b346-08bbca4af307",
   "metadata": {},
   "outputs": [
    {
     "name": "stdout",
     "output_type": "stream",
     "text": [
      "Requirement already satisfied: rasterio in c:\\users\\user\\anaconda3\\lib\\site-packages (1.4.3)\n",
      "Requirement already satisfied: affine in c:\\users\\user\\anaconda3\\lib\\site-packages (from rasterio) (2.4.0)\n",
      "Requirement already satisfied: attrs in c:\\users\\user\\anaconda3\\lib\\site-packages (from rasterio) (23.1.0)\n",
      "Requirement already satisfied: certifi in c:\\users\\user\\anaconda3\\lib\\site-packages (from rasterio) (2025.1.31)\n",
      "Requirement already satisfied: click>=4.0 in c:\\users\\user\\anaconda3\\lib\\site-packages (from rasterio) (8.1.7)\n",
      "Requirement already satisfied: cligj>=0.5 in c:\\users\\user\\anaconda3\\lib\\site-packages (from rasterio) (0.7.2)\n",
      "Requirement already satisfied: numpy>=1.24 in c:\\users\\user\\anaconda3\\lib\\site-packages (from rasterio) (1.26.4)\n",
      "Requirement already satisfied: click-plugins in c:\\users\\user\\anaconda3\\lib\\site-packages (from rasterio) (1.1.1)\n",
      "Requirement already satisfied: pyparsing in c:\\users\\user\\anaconda3\\lib\\site-packages (from rasterio) (3.1.2)\n",
      "Requirement already satisfied: colorama in c:\\users\\user\\anaconda3\\lib\\site-packages (from click>=4.0->rasterio) (0.4.6)\n",
      "Note: you may need to restart the kernel to use updated packages.\n"
     ]
    }
   ],
   "source": [
    "pip install rasterio\n",
    "pip install numpy\n",
    "pip install pandas\n",
    "pip install pyproj"
   ]
  },
  {
   "cell_type": "code",
   "execution_count": 9,
   "id": "e995c6e9-d5a8-4821-a306-45dfb27a1c2a",
   "metadata": {},
   "outputs": [
    {
     "ename": "RasterioIOError",
     "evalue": "C:/Users/user/Documents/에이콘아카데미/DEM/(B080)공개DEM_38709_img_2022/38709.img: No such file or directory",
     "output_type": "error",
     "traceback": [
      "\u001b[1;31m---------------------------------------------------------------------------\u001b[0m",
      "\u001b[1;31mCPLE_OpenFailedError\u001b[0m                      Traceback (most recent call last)",
      "File \u001b[1;32mrasterio\\\\_base.pyx:310\u001b[0m, in \u001b[0;36mrasterio._base.DatasetBase.__init__\u001b[1;34m()\u001b[0m\n",
      "File \u001b[1;32mrasterio\\\\_base.pyx:221\u001b[0m, in \u001b[0;36mrasterio._base.open_dataset\u001b[1;34m()\u001b[0m\n",
      "File \u001b[1;32mrasterio\\\\_err.pyx:359\u001b[0m, in \u001b[0;36mrasterio._err.exc_wrap_pointer\u001b[1;34m()\u001b[0m\n",
      "\u001b[1;31mCPLE_OpenFailedError\u001b[0m: C:/Users/user/Documents/에이콘아카데미/DEM/(B080)공개DEM_38709_img_2022/38709.img: No such file or directory",
      "\nDuring handling of the above exception, another exception occurred:\n",
      "\u001b[1;31mRasterioIOError\u001b[0m                           Traceback (most recent call last)",
      "Cell \u001b[1;32mIn[9], line 13\u001b[0m\n\u001b[0;32m     10\u001b[0m dem_path \u001b[38;5;241m=\u001b[39m \u001b[38;5;124mf\u001b[39m\u001b[38;5;124m\"\u001b[39m\u001b[38;5;124mC:/Users/user/Documents/에이콘아카데미/DEM/(B080)공개DEM_\u001b[39m\u001b[38;5;132;01m{\u001b[39;00mdoyeop[num]\u001b[38;5;132;01m}\u001b[39;00m\u001b[38;5;124m_img_2022/\u001b[39m\u001b[38;5;132;01m{\u001b[39;00mdoyeop[num]\u001b[38;5;132;01m}\u001b[39;00m\u001b[38;5;124m.img\u001b[39m\u001b[38;5;124m\"\u001b[39m\n\u001b[0;32m     12\u001b[0m \u001b[38;5;66;03m# DEM 열기\u001b[39;00m\n\u001b[1;32m---> 13\u001b[0m \u001b[38;5;28;01mwith\u001b[39;00m rasterio\u001b[38;5;241m.\u001b[39mopen(dem_path) \u001b[38;5;28;01mas\u001b[39;00m src:\n\u001b[0;32m     14\u001b[0m     elevation \u001b[38;5;241m=\u001b[39m src\u001b[38;5;241m.\u001b[39mread(\u001b[38;5;241m1\u001b[39m)  \u001b[38;5;66;03m# 고도 데이터 (2D 배열)\u001b[39;00m\n\u001b[0;32m     15\u001b[0m     transform \u001b[38;5;241m=\u001b[39m src\u001b[38;5;241m.\u001b[39mtransform\n",
      "File \u001b[1;32m~\\anaconda3\\Lib\\site-packages\\rasterio\\env.py:463\u001b[0m, in \u001b[0;36mensure_env_with_credentials.<locals>.wrapper\u001b[1;34m(*args, **kwds)\u001b[0m\n\u001b[0;32m    460\u001b[0m     session \u001b[38;5;241m=\u001b[39m DummySession()\n\u001b[0;32m    462\u001b[0m \u001b[38;5;28;01mwith\u001b[39;00m env_ctor(session\u001b[38;5;241m=\u001b[39msession):\n\u001b[1;32m--> 463\u001b[0m     \u001b[38;5;28;01mreturn\u001b[39;00m f(\u001b[38;5;241m*\u001b[39margs, \u001b[38;5;241m*\u001b[39m\u001b[38;5;241m*\u001b[39mkwds)\n",
      "File \u001b[1;32m~\\anaconda3\\Lib\\site-packages\\rasterio\\__init__.py:368\u001b[0m, in \u001b[0;36mopen\u001b[1;34m(fp, mode, driver, width, height, count, crs, transform, dtype, nodata, sharing, opener, **kwargs)\u001b[0m\n\u001b[0;32m    365\u001b[0m     path \u001b[38;5;241m=\u001b[39m _parse_path(raw_dataset_path)\n\u001b[0;32m    367\u001b[0m \u001b[38;5;28;01mif\u001b[39;00m mode \u001b[38;5;241m==\u001b[39m \u001b[38;5;124m\"\u001b[39m\u001b[38;5;124mr\u001b[39m\u001b[38;5;124m\"\u001b[39m:\n\u001b[1;32m--> 368\u001b[0m     dataset \u001b[38;5;241m=\u001b[39m DatasetReader(path, driver\u001b[38;5;241m=\u001b[39mdriver, sharing\u001b[38;5;241m=\u001b[39msharing, \u001b[38;5;241m*\u001b[39m\u001b[38;5;241m*\u001b[39mkwargs)\n\u001b[0;32m    369\u001b[0m \u001b[38;5;28;01melif\u001b[39;00m mode \u001b[38;5;241m==\u001b[39m \u001b[38;5;124m\"\u001b[39m\u001b[38;5;124mr+\u001b[39m\u001b[38;5;124m\"\u001b[39m:\n\u001b[0;32m    370\u001b[0m     dataset \u001b[38;5;241m=\u001b[39m get_writer_for_path(path, driver\u001b[38;5;241m=\u001b[39mdriver)(\n\u001b[0;32m    371\u001b[0m         path, mode, driver\u001b[38;5;241m=\u001b[39mdriver, sharing\u001b[38;5;241m=\u001b[39msharing, \u001b[38;5;241m*\u001b[39m\u001b[38;5;241m*\u001b[39mkwargs\n\u001b[0;32m    372\u001b[0m     )\n",
      "File \u001b[1;32mrasterio\\\\_base.pyx:312\u001b[0m, in \u001b[0;36mrasterio._base.DatasetBase.__init__\u001b[1;34m()\u001b[0m\n",
      "\u001b[1;31mRasterioIOError\u001b[0m: C:/Users/user/Documents/에이콘아카데미/DEM/(B080)공개DEM_38709_img_2022/38709.img: No such file or directory"
     ]
    }
   ],
   "source": [
    "import rasterio\n",
    "import numpy as np\n",
    "import pandas as pd\n",
    "from pyproj import Transformer\n",
    "\n",
    "doyeop = ['38712', '38713', '38715', '38710', '38714', '38709', '38711']\n",
    "\n",
    "# DEM 파일 경로 (파일명에 맞게 수정)\n",
    "for num in range(len(doyeop)):\n",
    "    dem_path = f\"C:/Users/user/Documents/에이콘아카데미/DEM/(B080)공개DEM_{doyeop[num]}_img_2022/{doyeop[num]}.img\"\n",
    "    \n",
    "    # DEM 열기\n",
    "    with rasterio.open(dem_path) as src:\n",
    "        elevation = src.read(1)  # 고도 데이터 (2D 배열)\n",
    "        transform = src.transform\n",
    "        crs = src.crs\n",
    "        width, height = src.width, src.height\n",
    "    \n",
    "    # 픽셀 크기\n",
    "    dx = transform[0]\n",
    "    dy = -transform[4]  # y 해상도는 음수 방향\n",
    "    \n",
    "    # 경사도 계산 (x: 동서, y: 남북 방향)\n",
    "    gy, gx = np.gradient(elevation, dy, dx)\n",
    "    slope_rad = np.arctan(np.sqrt(gx**2 + gy**2))\n",
    "    slope_deg = np.degrees(slope_rad)\n",
    "    \n",
    "    # 픽셀 위치 → 실제 좌표\n",
    "    rows, cols = np.meshgrid(np.arange(height), np.arange(width), indexing='ij')\n",
    "    xs, ys = rasterio.transform.xy(transform, rows, cols)\n",
    "    xs = np.array(xs).flatten()\n",
    "    ys = np.array(ys).flatten()\n",
    "    \n",
    "    # 좌표계 변환: EPSG:5181 → EPSG:4326 (경도, 위도)\n",
    "    transformer = Transformer.from_crs(crs, \"EPSG:4326\", always_xy=True)\n",
    "    lons, lats = transformer.transform(xs, ys)\n",
    "    \n",
    "    # 고도 및 경사도 데이터 1차원화\n",
    "    elevation_flat = elevation.flatten()\n",
    "    slope_flat = slope_deg.flatten()\n",
    "    \n",
    "    # 유효한 데이터만 선택 (NaN 또는 nodata 제거)\n",
    "    valid_mask = ~np.isnan(elevation_flat)\n",
    "    \n",
    "    # DataFrame 생성\n",
    "    df = pd.DataFrame({\n",
    "        \"longitude\": np.array(lons)[valid_mask],\n",
    "        \"latitude\": np.array(lats)[valid_mask],\n",
    "        \"elevation\": elevation_flat[valid_mask],\n",
    "        \"slope\": slope_flat[valid_mask]\n",
    "    })\n",
    "    \n",
    "    # CSV 저장\n",
    "    df.to_csv(f\"철원{num+2}.csv\", index=False)"
   ]
  },
  {
   "cell_type": "code",
   "execution_count": null,
   "id": "7d9a8130-e654-45cf-ad6f-9da29afa4faa",
   "metadata": {},
   "outputs": [],
   "source": []
  },
  {
   "cell_type": "code",
   "execution_count": null,
   "id": "92b81bde-d1d1-44d4-b820-21d6007c6b69",
   "metadata": {},
   "outputs": [],
   "source": []
  }
 ],
 "metadata": {
  "kernelspec": {
   "display_name": "Python [conda env:base] *",
   "language": "python",
   "name": "conda-base-py"
  },
  "language_info": {
   "codemirror_mode": {
    "name": "ipython",
    "version": 3
   },
   "file_extension": ".py",
   "mimetype": "text/x-python",
   "name": "python",
   "nbconvert_exporter": "python",
   "pygments_lexer": "ipython3",
   "version": "3.12.7"
  }
 },
 "nbformat": 4,
 "nbformat_minor": 5
}
