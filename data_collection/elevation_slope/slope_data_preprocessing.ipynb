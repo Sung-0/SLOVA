{
 "cells": [
  {
   "cell_type": "markdown",
   "id": "bc25e873-0021-4520-b041-d126eb27d3c8",
   "metadata": {},
   "source": [
    "# 고도, 경사도 데이터 전처리"
   ]
  },
  {
   "cell_type": "markdown",
   "id": "76b8e6a4-efed-4a0e-bb4a-0e7c134aaa70",
   "metadata": {},
   "source": [
    "### 경상북도 데이터 불러오기"
   ]
  },
  {
   "cell_type": "code",
   "execution_count": null,
   "id": "90e3a85d-2c51-4ef6-8509-2cd1fd40a33f",
   "metadata": {},
   "outputs": [],
   "source": [
    "import pandas as pd\n",
    "df = pd.read_csv('C:/Users/user/Documents/에이콘아카데미/최종/고도,경사도/cleaned_df.csv')\n",
    "df"
   ]
  },
  {
   "cell_type": "markdown",
   "id": "edbc4f8c-8ed5-4e26-aa79-98a696a0fed6",
   "metadata": {},
   "source": [
    "### 격자 500*500 으로 변환"
   ]
  },
  {
   "cell_type": "code",
   "execution_count": null,
   "id": "af5c2a69-68eb-4bd1-8962-7df47c402110",
   "metadata": {},
   "outputs": [],
   "source": [
    "import geopandas as gpd\n",
    "from shapely.geometry import Point\n",
    "from pyproj import Transformer\n",
    "\n",
    "# 좌표를 Point 객체로 변환하여 GeoDataFrame 생성 (좌표계: WGS84)\n",
    "geometry = [Point(xy) for xy in zip(df[\"longitude\"], df[\"latitude\"])]\n",
    "gdf = gpd.GeoDataFrame(df, geometry=geometry, crs=\"EPSG:4326\")\n",
    "\n",
    "# 미터 기반 좌표계로 변환 (예: UTM Zone 52N - EPSG:32652)\n",
    "gdf = gdf.to_crs(epsg=32652)\n",
    "\n",
    "# 500m 격자 인덱스 생성\n",
    "gdf[\"x500\"] = (gdf.geometry.x // 500).astype(int)\n",
    "gdf[\"y500\"] = (gdf.geometry.y // 500).astype(int)\n",
    "\n",
    "# 격자 단위 평균값 계산\n",
    "agg_df = gdf.groupby([\"x500\", \"y500\"])[[\n",
    "    \"2021_elevation\", \"2021_slope\", \"2022_elevation\", \"2022_slope\"\n",
    "]].mean().reset_index()\n",
    "\n",
    "# 격자 중심 좌표 계산\n",
    "agg_df[\"x_center\"] = agg_df[\"x500\"] * 500 + 250\n",
    "agg_df[\"y_center\"] = agg_df[\"y500\"] * 500 + 250\n",
    "\n",
    "# EPSG:4326로 재변환\n",
    "transformer = Transformer.from_crs(\"EPSG:32652\", \"EPSG:4326\", always_xy=True)\n",
    "agg_df[\"longitude\"], agg_df[\"latitude\"] = transformer.transform(\n",
    "    agg_df[\"x_center\"].values, agg_df[\"y_center\"].values\n",
    ")\n",
    "\n",
    "# 결과 저장\n",
    "agg_df.to_csv(\"cleaned_df_500m.csv\", index=False)"
   ]
  },
  {
   "cell_type": "code",
   "execution_count": null,
   "id": "9825cae3-ceb9-475e-b508-6e9e1a0f624e",
   "metadata": {},
   "outputs": [],
   "source": [
    "df1 = pd.read_csv(\"cleaned_df_500m.csv\")\n",
    "df1.head()"
   ]
  },
  {
   "cell_type": "markdown",
   "id": "9a72171e-9863-4264-bd4b-293792357c51",
   "metadata": {},
   "source": [
    "### 컬럼 설명\n",
    "### x500, y500: 격자 ID\n",
    "### x_center, y_center: 격자 중심 좌표 (미터 기준)\n",
    "\n",
    "### longitude, latitude: 격자 중심 위경도\n",
    "\n",
    "### elevation, slope: 연도별 평균값"
   ]
  },
  {
   "cell_type": "code",
   "execution_count": null,
   "id": "dc433507-020c-4064-bc42-5b6daa23f873",
   "metadata": {},
   "outputs": [],
   "source": []
  }
 ],
 "metadata": {
  "kernelspec": {
   "display_name": "Python [conda env:base] *",
   "language": "python",
   "name": "conda-base-py"
  },
  "language_info": {
   "codemirror_mode": {
    "name": "ipython",
    "version": 3
   },
   "file_extension": ".py",
   "mimetype": "text/x-python",
   "name": "python",
   "nbconvert_exporter": "python",
   "pygments_lexer": "ipython3",
   "version": "3.12.7"
  }
 },
 "nbformat": 4,
 "nbformat_minor": 5
}
