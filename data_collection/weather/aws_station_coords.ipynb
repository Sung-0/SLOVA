{
 "cells": [
  {
   "cell_type": "code",
   "execution_count": 1,
   "id": "bee176a2-7133-4833-8043-b3cc498138fb",
   "metadata": {},
   "outputs": [],
   "source": [
    "# 방재기상관측(AWS) 파일 불러기기\n",
    "import os\n",
    "import pandas as pd\n",
    "\n",
    "folder_path = 'C:/Users/hbi/Downloads/기상청_강수량(0523)/방재기상관측(AWS)'  # 폴더 경로 (같은 폴더면 '.' 으로 설정)\n",
    "\n",
    "dfs_aws = {}  # 결과 저장할 딕셔너리\n",
    "\n",
    "for filename in os.listdir(folder_path):\n",
    "    if filename.endswith('.csv'):\n",
    "        file_path = os.path.join(folder_path, filename)\n",
    "        df = pd.read_csv(file_path, encoding='cp949')  # 또는 encoding='utf-8'\n",
    "        key = os.path.splitext(filename)[0]  # 확장자 제거한 파일명\n",
    "        dfs_aws[key] = df\n"
   ]
  },
  {
   "cell_type": "code",
   "execution_count": 1,
   "id": "d423f13c-371f-4201-b70e-12b557ae00ac",
   "metadata": {},
   "outputs": [],
   "source": [
    "# 데이터프레임 출력\n",
    "for name, df in dfs_aws.items():\n",
    "    print(f\"\\n===== {name} =====\")\n",
    "    print(df)"
   ]
  },
  {
   "cell_type": "code",
   "execution_count": 3,
   "id": "eecd3420-60a1-490d-accd-27647f092d54",
   "metadata": {},
   "outputs": [],
   "source": [
    "# 관측지점(AWS) 파일 불러기기\n",
    "import os\n",
    "import pandas as pd\n",
    "\n",
    "folder_path = 'C:/Users/hbi/Downloads/기상청_강수량(0523)/관측지점정보(AWS)'  # 폴더 경로 (같은 폴더면 '.' 으로 설정)\n",
    "\n",
    "dfs_aws_meta = {}  # 결과 저장할 딕셔너리\n",
    "\n",
    "for filename in os.listdir(folder_path):\n",
    "    if filename.endswith('.csv'):\n",
    "        file_path = os.path.join(folder_path, filename)\n",
    "        df = pd.read_csv(file_path, encoding='utf-8-sig')  # 또는 encoding='utf-8'\n",
    "        key = os.path.splitext(filename)[0]  # 확장자 제거한 파일명\n",
    "        dfs_aws_meta[key] = df\n"
   ]
  },
  {
   "cell_type": "code",
   "execution_count": 2,
   "id": "baeebeb8-4b82-4c46-862b-5e706506571d",
   "metadata": {},
   "outputs": [],
   "source": [
    "# 데이터프레임 출력\n",
    "for name, df in dfs_aws_meta.items():\n",
    "    print(f\"\\n===== {name} =====\")\n",
    "    print(df)"
   ]
  },
  {
   "cell_type": "code",
   "execution_count": 8,
   "id": "6842c77c-7e15-433e-aa2d-c22bee457a6e",
   "metadata": {},
   "outputs": [],
   "source": [
    "key_pairs = [\n",
    "    ('CN_AWS_2022', 'META_AWS_CN_clean'),\n",
    "    ('GB_AWS_2022', 'META_AWS_GB_clean'),\n",
    "    ('GG_AWS_2022', 'META_AWS_GG_clean'),\n",
    "    ('CN_AWS_2021', 'META_AWS_CN_clean'),\n",
    "    ('GB_AWS_2021', 'META_AWS_GB_clean'),\n",
    "    ('GG_AWS_2021', 'META_AWS_GG_clean'),\n",
    "    ('GW_AWS_2022', 'META_AWS_GW_clean'),\n",
    "    ('GW_AWS_2021', 'META_AWS_GW_clean'),\n",
    "    # 원하는 키 쌍 추가\n",
    "]\n",
    "\n",
    "dfs_joined = {}\n",
    "\n",
    "for k1, k2 in key_pairs:\n",
    "    df1 = dfs_aws[k1]\n",
    "    df2 = dfs_aws_meta[k2]\n",
    "    merged_df = df1.merge(df2, on='지점', how='left')\n",
    "    dfs_joined[f'{k1}_{k2}'] = merged_df\n"
   ]
  },
  {
   "cell_type": "code",
   "execution_count": 3,
   "id": "b1b30d4f-af1e-4b34-98cc-ca1732767c20",
   "metadata": {},
   "outputs": [],
   "source": [
    "# 데이터프레임 출력\n",
    "for name, df in dfs_joined.items():\n",
    "    print(f\"\\n===== {name} =====\")\n",
    "    print(df)"
   ]
  },
  {
   "cell_type": "code",
   "execution_count": 10,
   "id": "43632154-ba09-4b1e-ab09-07d61c0dd415",
   "metadata": {},
   "outputs": [],
   "source": [
    "columns_order = [\n",
    "    '지점', '지점명_x', '지점주소', '위도', '경도', '일시','일강수량(mm)'\n",
    "]\n",
    "\n",
    "for key, df in dfs_joined.items():\n",
    "    # 존재하는 컬럼만 선택\n",
    "    selected_columns = [col for col in columns_order if col in df.columns]\n",
    "    df_selected = df[selected_columns].copy()\n",
    "    \n",
    "    # '지점명_x' -> '지점명'으로 컬럼명 변경\n",
    "    if '지점명_x' in df_selected.columns:\n",
    "        df_selected.rename(columns={'지점명_x': '지점명'}, inplace=True)\n",
    "    \n",
    "    # CSV 저장\n",
    "    filename = f\"{key}_clean.csv\"\n",
    "    df_selected.to_csv(filename, index=False, encoding='utf-8-sig')\n"
   ]
  }
 ],
 "metadata": {
  "kernelspec": {
   "display_name": "Python 3 (ipykernel)",
   "language": "python",
   "name": "python3"
  },
  "language_info": {
   "codemirror_mode": {
    "name": "ipython",
    "version": 3
   },
   "file_extension": ".py",
   "mimetype": "text/x-python",
   "name": "python",
   "nbconvert_exporter": "python",
   "pygments_lexer": "ipython3",
   "version": "3.12.7"
  }
 },
 "nbformat": 4,
 "nbformat_minor": 5
}
