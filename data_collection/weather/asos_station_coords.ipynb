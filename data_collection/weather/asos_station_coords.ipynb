{
 "cells": [
  {
   "cell_type": "markdown",
   "id": "f3da4184-f38c-415e-a845-358d030127c9",
   "metadata": {},
   "source": [
    "## 관측지점정보(ASOS) 전처리"
   ]
  },
  {
   "cell_type": "code",
   "execution_count": null,
   "id": "8e72eb69-5039-4be2-9124-20d5425ba866",
   "metadata": {},
   "outputs": [],
   "source": [
    "import pandas as pd\n",
    "import glob\n",
    "import os\n",
    "\n",
    "# 폴더(관측지점정보(ASOS)) 내 csv파일 가져오기\n",
    "folder_path = \"C:/Users/hbi/Downloads/기상청_강수량(0523)/관측지점정보(ASOS)\" # 폴더 경로\n",
    "csv_files = glob.glob(os.path.join(folder_path, \"*.csv\"))\n",
    "\n",
    "# 파일명을 키로, DataFrame을 값으로 하는 딕셔너리 생성\n",
    "dfs = {}\n",
    "for file in csv_files:\n",
    "    file_name = os.path.basename(file).replace(\".csv\", \"\")  # 확장자 제거\n",
    "    dfs[file_name] = pd.read_csv(file, encoding='euc-kr')\n",
    "\n",
    "# META_ASOS_GB 데이터프레임 확인\n",
    "dfs[\"META_ASOS_GB\"].head()"
   ]
  },
  {
   "cell_type": "code",
   "execution_count": null,
   "id": "4b315f5e-6444-4a38-a372-7fe15ced2eef",
   "metadata": {},
   "outputs": [],
   "source": [
    "# \"종료일\"이 NULL인 행만 남기기\n",
    "for name, df in dfs.items():\n",
    "    if \"종료일\" in df.columns:\n",
    "        dfs[name] = df[df[\"종료일\"].isnull()]"
   ]
  },
  {
   "cell_type": "code",
   "execution_count": null,
   "id": "11133614-048e-4b4b-8335-bcb985abb358",
   "metadata": {},
   "outputs": [],
   "source": [
    "# 지점, 지명, 지점주소, 위도, 경도 만 남기기\n",
    "columns_to_keep = ['지점', '지점명', '지점주소', '위도', '경도']\n",
    "\n",
    "dfs = {key: df[columns_to_keep] for key, df in dfs.items()}"
   ]
  },
  {
   "cell_type": "code",
   "execution_count": null,
   "id": "21687f2e-5072-4767-b91b-f28db5204a59",
   "metadata": {},
   "outputs": [],
   "source": [
    "# 데이터프레임 출력\n",
    "for name, df in dfs.items():\n",
    "    print(f\"\\n===== {name} =====\")\n",
    "    print(df)"
   ]
  },
  {
   "cell_type": "code",
   "execution_count": null,
   "id": "6baf24e7-7585-4728-9318-135f2b9c3f14",
   "metadata": {},
   "outputs": [],
   "source": [
    "# 파일로 저장\n",
    "for key, df in dfs.items():\n",
    "    filename = f\"{key}_clean.csv\"\n",
    "    df.to_csv(filename, index=False, encoding='utf-8-sig')"
   ]
  },
  {
   "cell_type": "markdown",
   "id": "d86f189f-6b77-4c54-bd63-428a79886973",
   "metadata": {},
   "source": [
    "## 관측지점정보(AWS) 전처리"
   ]
  },
  {
   "cell_type": "code",
   "execution_count": null,
   "id": "32ac762d-df3a-4eb7-ab7c-0c5734014ffa",
   "metadata": {},
   "outputs": [],
   "source": [
    "import pandas as pd\n",
    "import glob\n",
    "import os\n",
    "\n",
    "# 폴더(관측지점정보(AWS)) 내 csv파일 가져오기\n",
    "folder_path = \"C:/Users/hbi/Downloads/기상청_강수량(0523)/관측지점정보(AWS)\" # 폴더 경\n",
    "csv_files = glob.glob(os.path.join(folder_path, \"*.csv\"))\n",
    "\n",
    "# 파일명을 키로, DataFrame을 값으로 하는 딕셔너리 생성\n",
    "dfs = {}\n",
    "for file in csv_files:\n",
    "    file_name = os.path.basename(file).replace(\".csv\", \"\")  # 확장자 제거\n",
    "    dfs[file_name] = pd.read_csv(file, encoding='euc-kr')\n",
    "\n",
    "# META_AWS_GB데이터프레임 확인\n",
    "dfs[\"META_AWS_GB\"].head()"
   ]
  },
  {
   "cell_type": "code",
   "execution_count": null,
   "id": "50f62815-03d9-4753-972c-1ffc3191f584",
   "metadata": {},
   "outputs": [],
   "source": [
    "# \"종료일\"이 NULL인 행만 남기기\n",
    "for name, df in dfs.items():\n",
    "    if \"종료일\" in df.columns:\n",
    "        dfs[name] = df[df[\"종료일\"].isnull()]"
   ]
  },
  {
   "cell_type": "code",
   "execution_count": null,
   "id": "ba028a7a-d146-4818-a69f-c9f0508c2361",
   "metadata": {},
   "outputs": [],
   "source": [
    "# 지점, 지명, 지점주소, 위도, 경도 만 남기기\n",
    "columns_to_keep = ['지점', '지점명', '지점주소', '위도', '경도']\n",
    "\n",
    "dfs = {key: df[columns_to_keep] for key, df in dfs.items()}"
   ]
  },
  {
   "cell_type": "code",
   "execution_count": null,
   "id": "74893ae9-ce17-4c3a-8552-f88303e2866a",
   "metadata": {},
   "outputs": [],
   "source": [
    "# 데이터프레임 출력\n",
    "for name, df in dfs.items():\n",
    "    print(f\"\\n===== {name} =====\")\n",
    "    print(df)"
   ]
  },
  {
   "cell_type": "code",
   "execution_count": null,
   "id": "42badc64-9198-4ec1-b59e-2bdb8a444632",
   "metadata": {},
   "outputs": [],
   "source": [
    "# 파일로 저장\n",
    "for key, df in dfs.items():\n",
    "    filename = f\"{key}_clean.csv\"\n",
    "    df.to_csv(filename, index=False, encoding='utf-8-sig')"
   ]
  },
  {
   "cell_type": "code",
   "execution_count": null,
   "id": "9c8b2094-e819-4751-b944-89efb5c95a00",
   "metadata": {},
   "outputs": [],
   "source": [
    "# 종관기상관측(ASOS) 파일 불러기기\n",
    "import os\n",
    "import pandas as pd\n",
    "\n",
    "folder_path = 'C:/Users/hbi/Downloads/기상청_강수량(0523)/종관기상관측(ASOS)'  # 폴더 경로 (같은 폴더면 '.' 으로 설정)\n",
    "\n",
    "dfs_asos = {}  # 결과 저장할 딕셔너리\n",
    "\n",
    "for filename in os.listdir(folder_path):\n",
    "    if filename.endswith('.csv'):\n",
    "        file_path = os.path.join(folder_path, filename)\n",
    "        df = pd.read_csv(file_path, encoding='cp949')  # 또는 encoding='utf-8'\n",
    "        key = os.path.splitext(filename)[0]  # 확장자 제거한 파일명\n",
    "        dfs_asos[key] = df\n"
   ]
  },
  {
   "cell_type": "code",
   "execution_count": null,
   "id": "1eba554d-ee0b-4d76-8328-6a626705aa0e",
   "metadata": {},
   "outputs": [],
   "source": [
    "# 관측지점(ASOS) 파일 불러기기\n",
    "import os\n",
    "import pandas as pd\n",
    "\n",
    "folder_path = 'C:/Users/hbi/Downloads/기상청_강수량(0523)/관측지점정보(ASOS)'  # 폴더 경로 (같은 폴더면 '.' 으로 설정)\n",
    "\n",
    "dfs_asos_meta = {}  # 결과 저장할 딕셔너리\n",
    "\n",
    "for filename in os.listdir(folder_path):\n",
    "    if filename.endswith('.csv'):\n",
    "        file_path = os.path.join(folder_path, filename)\n",
    "        df = pd.read_csv(file_path, encoding='utf-8-sig')  # 또는 encoding='utf-8'\n",
    "        key = os.path.splitext(filename)[0]  # 확장자 제거한 파일명\n",
    "        dfs_asos_meta[key] = df"
   ]
  },
  {
   "cell_type": "code",
   "execution_count": null,
   "id": "cc780b1b-e91b-493f-b5b0-d539e8f38f52",
   "metadata": {},
   "outputs": [],
   "source": [
    "# ASOS파일에 관측정보지점(ASOS) '지점'으로 아우터조인 기기\n",
    "key_pairs = [\n",
    "    ('CN_ASOS_2022', 'META_ASOS_CN_clean'),\n",
    "    ('GB_ASOS_2022', 'META_ASOS_GB_clean'),\n",
    "    ('GG_ASOS_2022', 'META_ASOS_GG_clean'),\n",
    "    ('CN_ASOS_2021', 'META_ASOS_CN_clean'),\n",
    "    ('GB_ASOS_2021', 'META_ASOS_GB_clean'),\n",
    "    ('GG_ASOS_2021', 'META_ASOS_GG_clean'),\n",
    "    ('GW_ASOS_2022', 'META_ASOS_GW_clean'),\n",
    "    ('GW_ASOS_2021', 'META_ASOS_GW_clean'),\n",
    "    # 원하는 키 쌍 추가\n",
    "]\n",
    "\n",
    "dfs_joined = {}\n",
    "\n",
    "for k1, k2 in key_pairs:\n",
    "    df1 = dfs_asos[k1]\n",
    "    df2 = dfs_asos_meta[k2]\n",
    "    merged_df = df1.merge(df2, on='지점', how='left')\n",
    "    dfs_joined[f'{k1}_{k2}'] = merged_df"
   ]
  },
  {
   "cell_type": "code",
   "execution_count": null,
   "id": "1c563443-3110-49e0-89f2-7c8372ce5022",
   "metadata": {},
   "outputs": [],
   "source": [
    "columns_order = [\n",
    "    '지점', '지점명_x', '지점주소', '위도', '경도', '일시',\n",
    "    '강수 계속시간(hr)', '10분 최다 강수량(mm)', '10분 최다강수량 시각(hhmi)',\n",
    "    '1시간 최다강수량(mm)', '1시간 최다 강수량 시각(hhmi)', '일강수량(mm)'\n",
    "]\n",
    "\n",
    "for key, df in dfs_joined.items():\n",
    "    # 존재하는 컬럼만 선택\n",
    "    selected_columns = [col for col in columns_order if col in df.columns]\n",
    "    df_selected = df[selected_columns].copy()\n",
    "    \n",
    "    # '지점명_x' -> '지점명'으로 컬럼명 변경\n",
    "    if '지점명_x' in df_selected.columns:\n",
    "        df_selected.rename(columns={'지점명_x': '지점명'}, inplace=True)\n",
    "    \n",
    "    # CSV 저장\n",
    "    filename = f\"{key}_clean.csv\"\n",
    "    df_selected.to_csv(filename, index=False, encoding='utf-8-sig')\n"
   ]
  }
 ],
 "metadata": {
  "kernelspec": {
   "display_name": "Python 3 (ipykernel)",
   "language": "python",
   "name": "python3"
  },
  "language_info": {
   "codemirror_mode": {
    "name": "ipython",
    "version": 3
   },
   "file_extension": ".py",
   "mimetype": "text/x-python",
   "name": "python",
   "nbconvert_exporter": "python",
   "pygments_lexer": "ipython3",
   "version": "3.12.7"
  }
 },
 "nbformat": 4,
 "nbformat_minor": 5
}
